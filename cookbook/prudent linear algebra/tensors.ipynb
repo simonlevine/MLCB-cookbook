{
 "metadata": {
  "language_info": {
   "codemirror_mode": {
    "name": "ipython",
    "version": 3
   },
   "file_extension": ".py",
   "mimetype": "text/x-python",
   "name": "python",
   "nbconvert_exporter": "python",
   "pygments_lexer": "ipython3",
   "version": "3.7.4-final"
  },
  "orig_nbformat": 2,
  "kernelspec": {
   "name": "python37464bitbaseconda8fa824ba8a314bd3ad9dad213539637d",
   "display_name": "Python 3.7.4 64-bit ('base': conda)",
   "language": "python"
  }
 },
 "nbformat": 4,
 "nbformat_minor": 2,
 "cells": [
  {
   "source": [
    "## Tensors, or How to Make A Billion Dollars This Century\n",
    "\n",
    "1.3 billion humans are able to use Microsoft Excel. Microsoft Excel is the modern clay tablet, an intuitive but ultimately limited instrument for the computational professional. After all, why should we be limited to two dimensions? Why should we pay for the priveledge? Often, data is best represented as $n$-dimensional.\n",
    "\n",
    "For instance, let's say you'd like become a billionaire without too much effort. One way would be to totally automate clinical bioimage analysis at human-level fidelity using machine learning. This shouldn't be too hard.\n",
    "\n",
    "\n",
    "\n",
    "\n",
    "Whereas a highly skilled human could potentially spot abnormalities in the above retinopathy slide, a machine could potentially do better.\n",
    "\n",
    "  can Tensors are simply vector-valued matrices, or an $n$-dimensional generalization of a matrix."
   ],
   "cell_type": "markdown",
   "metadata": {}
  },
  {
   "source": [
    "<img src=\"cookbook/prudent linear algebra/data/10009_right.png\">\n"
   ],
   "cell_type": "markdown",
   "metadata": {}
  },
  {
   "cell_type": "code",
   "execution_count": null,
   "metadata": {},
   "outputs": [],
   "source": []
  },
  {
   "cell_type": "code",
   "execution_count": null,
   "metadata": {},
   "outputs": [],
   "source": []
  }
 ]
}